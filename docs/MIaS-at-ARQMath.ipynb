{
 "cells": [
  {
   "cell_type": "markdown",
   "metadata": {},
   "source": [
    "# Math Indexer and Searcher at ARQMath\n",
    "Download the ARQMath 2020 dataset."
   ]
  },
  {
   "cell_type": "code",
   "execution_count": 1,
   "metadata": {},
   "outputs": [],
   "source": [
    "%%bash\n",
    "set -e\n",
    "\n",
    "mkdir ARQMath_CLEF2020\n",
    "mkdir ARQMath_CLEF2020/Formulas\n",
    "mkdir -p ARQMath_CLEF2020/Task1/Topics\n",
    "mkdir ARQMath_CLEF2020-output\n",
    "\n",
    "DRIVE_NAME=mygoogledrive\n",
    "rclone copy -v $DRIVE_NAME:ARQMath_CLEF2020/Collection ARQMath_CLEF2020/Collection\n",
    "rclone copy -v $DRIVE_NAME:ARQMath_CLEF2020/Formulas/opt_representation_V1.0.zip ARQMath_CLEF2020/Formulas\n",
    "rclone copy -v $DRIVE_NAME:ARQMath_CLEF2020/Task1/Topics/Formula_topics_opt_V2.0.tsv ARQMath_CLEF2020/Task1/Topics\n",
    "rclone copy -v $DRIVE_NAME:ARQMath_CLEF2020/Task1/Topics/Topics_V2.0.xml ARQMath_CLEF2020/Task1/Topics\n",
    "\n",
    "pushd ARQMath_CLEF2020/Formulas\n",
    "unzip opt_representation_V1.0.zip\n",
    "popd"
   ]
  },
  {
   "cell_type": "markdown",
   "metadata": {},
   "source": [
    "Install Python packages."
   ]
  },
  {
   "cell_type": "code",
   "execution_count": 5,
   "metadata": {},
   "outputs": [
    {
     "name": "stdout",
     "output_type": "stream",
     "text": [
      "Successfully installed wheel-0.35.1\n",
      "Successfully installed arqmathcode-0.0.1\n",
      "Successfully installed arqmath-eval-0.0.18 tqdm-4.46.1\n",
      "Successfully installed gensim-3.8.3 lxml-4.5.2 requests-2.24.0\n"
     ]
    }
   ],
   "source": [
    "%%bash\n",
    "set -e\n",
    "\n",
    "pip install wheel~=0.35.1 --use-feature=2020-resolver |& grep 'Successfully installed'\n",
    "pip install git+https://github.com/MIR-MU/ARQMathCode@30063ed --use-feature=2020-resolver |& grep 'Successfully installed'\n",
    "pip install git+https://github.com/MIR-MU/ARQMath-eval@0.0.18 --use-feature=2020-resolver |& grep 'Successfully installed'\n",
    "pip install tqdm~=4.46.0 lxml~=4.5.2 requests~=2.24.0 gensim~=3.8.3 --use-feature=2020-resolver |& grep 'Successfully installed'"
   ]
  },
  {
   "cell_type": "markdown",
   "metadata": {},
   "source": [
    "Convert the ARQMath 2020 dataset to XHTML."
   ]
  },
  {
   "cell_type": "code",
   "execution_count": 6,
   "metadata": {},
   "outputs": [
    {
     "name": "stderr",
     "output_type": "stream",
     "text": [
      "100%|██████████| 90/90 [02:31<00:00,  1.69s/it] \n",
      "100%|██████████| 1445495/1445495 [5:14:46<00:00, 76.53it/s]   \n"
     ]
    },
    {
     "name": "stdout",
     "output_type": "stream",
     "text": [
      "Converted 1445495 / 1445495 (100.00%) answers.\n"
     ]
    }
   ],
   "source": [
    "from arqmathcode.post_reader_record import DataReaderRecord\n",
    "from arqmathcode.Visualization.generate_html_file import HtmlGenerator\n",
    "import csv\n",
    "import ctypes\n",
    "from glob import glob\n",
    "from io import TextIOWrapper\n",
    "from lxml import etree\n",
    "from multiprocessing import Pool\n",
    "from tqdm import tqdm\n",
    "\n",
    "csv_parameters = {'delimiter': '\\t', 'quotechar': '\"', 'quoting': csv.QUOTE_MINIMAL}\n",
    "csv.field_size_limit(int(ctypes.c_ulong(-1).value // 2))\n",
    "html_parser = etree.HTMLParser(huge_tree=True)\n",
    "xml_parser = etree.XMLParser(huge_tree=True)\n",
    "tostring_parameters = {'xml_declaration': True, 'encoding': 'UTF-8', 'pretty_print': True}\n",
    "\n",
    "reader = DataReaderRecord('ARQMath_CLEF2020/Collection')\n",
    "\n",
    "def read_formulae(filename):\n",
    "    formulae = dict()\n",
    "    with open(filename, 'rt') as f:\n",
    "        formula_rows = csv.reader(f, **csv_parameters)\n",
    "        next(formula_rows)\n",
    "        for formula_row in formula_rows:\n",
    "            formula_id = formula_row[0]\n",
    "            formula = formula_row[-1].encode('UTF-8')\n",
    "            formulae[formula_id] = formula\n",
    "    return formulae\n",
    "\n",
    "all_formulae = dict()\n",
    "filenames = glob('ARQMath_CLEF2020/Formulas/opt_representation_V1.0/*.tsv')\n",
    "with Pool(processes=48) as pool:\n",
    "    for formulae in tqdm(pool.imap(read_formulae, filenames), total=len(filenames)):\n",
    "        all_formulae.update(formulae)\n",
    "\n",
    "def write_answer(answer_id):\n",
    "    answer = reader.post_parser.map_just_answers[answer_id]\n",
    "    is_selected = False\n",
    "    user = None\n",
    "    if answer.owner_user_id in reader.user_parser.map_of_user:\n",
    "        user = reader.user_parser.map_of_user[answer.owner_user_id]\n",
    "    answer_html = HtmlGenerator.generate_answer(\n",
    "        is_selected,\n",
    "        answer.post_id,\n",
    "        answer.score,\n",
    "        answer.body,\n",
    "        HtmlGenerator.process_user(user, answer.creation_date),\n",
    "        HtmlGenerator.process_comments(answer.comments, answer_id),\n",
    "    )\n",
    "    try:\n",
    "        answer_document = etree.XML(answer_html, html_parser)\n",
    "        for span in answer_document.xpath('//span[@class=\"math-container\"]'):\n",
    "            if 'id' not in span.attrib:  # remove math containers without ids\n",
    "                replacement = etree.Element(\"span\")\n",
    "                replacement.text = span.tail\n",
    "            else:\n",
    "                formula_id = span.attrib['id']\n",
    "                if formula_id not in all_formulae:  # remove containers without matching cmml formulae\n",
    "                    replacement = etree.Element(\"span\")\n",
    "                    replacement.text = span.tail\n",
    "                else:  # replace containers with latex formulae for cmml formulae\n",
    "                    try:\n",
    "                        replacement = etree.XML(all_formulae[formula_id], xml_parser)\n",
    "                        replacement.tail = span.tail\n",
    "                    except (etree.Error, UnicodeDecodeError) as e:\n",
    "                        replacement = etree.Element(\"span\")\n",
    "                        replacement.text = span.tail   # remove containers with malformed matching cmml formulae\n",
    "            span.getparent().replace(span, replacement)\n",
    "        answer_xhtml = etree.tostring(answer_document, **tostring_parameters).decode('UTF-8')\n",
    "        with open('ARQMath_CLEF2020-output/{}.html'.format(answer_id), 'wt') as f:\n",
    "            print(answer_xhtml, file=f)\n",
    "    except (etree.Error, UnicodeDecodeError):  # skip malformed answers\n",
    "        pass\n",
    "\n",
    "answer_ids = reader.post_parser.map_just_answers.keys()\n",
    "with Pool(processes=48) as pool:\n",
    "    for _ in tqdm(pool.imap(write_answer, answer_ids), total=len(answer_ids)):\n",
    "        pass\n",
    "\n",
    "converted_filenames = glob('ARQMath_CLEF2020-output/*.html')\n",
    "print(\n",
    "    'Converted {} / {} ({:.2f}%) answers.'.format(\n",
    "        len(converted_filenames),\n",
    "        len(answer_ids),\n",
    "        100.0 * len(converted_filenames) / len(answer_ids),\n",
    "    )\n",
    ")"
   ]
  },
  {
   "cell_type": "markdown",
   "metadata": {},
   "source": [
    "Install MIaS."
   ]
  },
  {
   "cell_type": "code",
   "execution_count": 8,
   "metadata": {},
   "outputs": [],
   "source": [
    "%%bash\n",
    "set -e\n",
    "\n",
    "curl --location https://github.com/AdoptOpenJDK/openjdk8-upstream-binaries/releases/download/jdk8u262-b10/OpenJDK8U-jdk-jfr_x64_linux_8u262b10.tar.gz | tar xzv\n",
    "export JAVA_HOME=\"$PWD\"/openjdk-8u262-b10\n",
    "export PATH=\"$PWD\"/openjdk-8u262-b10/bin:\"$PATH\"\n",
    "\n",
    "curl https://mirror.dkm.cz/apache/maven/maven-3/3.6.3/binaries/apache-maven-3.6.3-bin.tar.gz | tar xz\n",
    "rm -rf ~/.m2  # erase previously-built mvn projects\n",
    "PATH=\"$PWD\"/apache-maven-3.6.3/bin/:\"$PATH\"\n",
    "\n",
    "git clone https://github.com/MIR-MU/MathMLCan.git\n",
    "pushd MathMLCan\n",
    "git checkout 38063b9\n",
    "mvn clean install\n",
    "popd\n",
    "\n",
    "git clone https://github.com/MIR-MU/MathMLUnificator.git\n",
    "pushd MathMLUnificator\n",
    "git checkout 0473904\n",
    "mvn clean install\n",
    "popd\n",
    "\n",
    "git clone https://github.com/MIR-MU/MIaSMath.git\n",
    "pushd MIaSMath\n",
    "git checkout 0961efb\n",
    "git apply << 'EOF'  # patch out structural unification\n",
    "diff --git a/src/main/java/cz/muni/fi/mias/math/MathTokenizer.java b/src/main/java/cz/muni/fi/mias/math/MathTokenizer.java\n",
    "index 53c7380..f2a0b44 100644\n",
    "--- a/src/main/java/cz/muni/fi/mias/math/MathTokenizer.java\n",
    "+++ b/src/main/java/cz/muni/fi/mias/math/MathTokenizer.java\n",
    "@@ -418,7 +418,8 @@ public class MathTokenizer extends Tokenizer {\n",
    "                 }\n",
    "                 if (store && !MathMLConf.ignoreNode(name)) {\n",
    "                     addFormula(position, new Formula(n, rank, originalRank));\n",
    "-                    loadUnifiedNodes(n, rank, originalRank, position);\n",
    "+                    // FIXME: structural unification disabled\n",
    "+                    // loadUnifiedNodes(n, rank, originalRank, position);\n",
    "                 }\n",
    "             }\n",
    "         }\n",
    "@@ -696,7 +697,8 @@ public class MathTokenizer extends Tokenizer {\n",
    "     private void modify() {\n",
    "         unifyVariables(vCoef);\n",
    "         unifyConst(cCoef);\n",
    "-        unifyOperators(oCoef);\n",
    "+        // FIXME: operator unification disabled\n",
    "+        // unifyOperators(oCoef);\n",
    "         processAttributes(aCoef);\n",
    "     }\n",
    "\n",
    "EOF\n",
    "mvn clean install\n",
    "popd\n",
    "\n",
    "git clone https://github.com/MIR-MU/MIaS.git\n",
    "pushd MIaS\n",
    "git checkout 3dbaa02\n",
    "mvn clean install\n",
    "popd\n",
    "\n",
    "pushd MIaS/target\n",
    "mkdir index\n",
    "cat > mias.properties <<EOF\n",
    "INDEXDIR=$PWD/index\n",
    "UPDATE=false\n",
    "THREADS=48\n",
    "MAXRESULTS=1000\n",
    "DOCLIMIT=-1\n",
    "FORMULA_DOCUMENTS=false\n",
    "EOF\n",
    "popd"
   ]
  },
  {
   "cell_type": "markdown",
   "metadata": {},
   "source": [
    "Index the ARQMath 2020 dataset in MIaS."
   ]
  },
  {
   "cell_type": "code",
   "execution_count": 5,
   "metadata": {},
   "outputs": [
    {
     "name": "stdout",
     "output_type": "stream",
     "text": [
      "4358173it [2:47:57, 432.47it/s]\n",
      "\n",
      "2020-08-28 22:52:58,745 [main] INFO  cz.muni.fi.mias.indexing.Indexing - Documents indexed: 1445494\n",
      "2020-08-28 22:52:58,747 [main] INFO  cz.muni.fi.mias.math.MathTokenizer - Indexed formulae: 155132667\n",
      "\n",
      "real\t167m57,884s\n",
      "user\t281m59,032s\n",
      "sys\t21m54,002s\n"
     ]
    }
   ],
   "source": [
    "! set -e; \\\n",
    "  export JAVA_HOME=\"$PWD\"/openjdk-8u262-b10; \\\n",
    "  export PATH=\"$PWD\"/openjdk-8u262-b10/bin:\"$PATH\"; \\\n",
    "  PATH=\"$PWD\"/apache-maven-3.6.3/bin/:\"$PATH\"; \\\n",
    "  pushd MIaS/target; \\\n",
    "  time java -jar MIaS-1.6.6-4.10.4-SNAPSHOT.jar -conf mias.properties -stats -overwrite \\\n",
    "  \"$OLDPWD\"/ARQMath_CLEF2020-output \"$OLDPWD\"/ARQMath_CLEF2020-output |& \\\n",
    "  python -m tqdm > output.log; \\\n",
    "  grep 'Documents indexed' < output.log | tail -n 1; \\\n",
    "  grep 'Indexed formulae'  < output.log | tail -n 1; \\\n",
    "  popd"
   ]
  },
  {
   "cell_type": "markdown",
   "metadata": {},
   "source": [
    "Install WebMIaS."
   ]
  },
  {
   "cell_type": "code",
   "execution_count": 11,
   "metadata": {},
   "outputs": [
    {
     "name": "stdout",
     "output_type": "stream",
     "text": [
      "Tomcat started.\n"
     ]
    }
   ],
   "source": [
    "%%bash\n",
    "set -e\n",
    "\n",
    "export JAVA_HOME=\"$PWD\"/openjdk-8u262-b10\n",
    "export PATH=\"$PWD\"/openjdk-8u262-b10/bin:\"$PATH\"\n",
    "PATH=\"$PWD\"/apache-maven-3.6.3/bin/:\"$PATH\"\n",
    "    \n",
    "git clone https://github.com/MIR-MU/WebMIaS.git\n",
    "pushd WebMIaS\n",
    "git checkout b2d9222\n",
    "cat > src/main/resources/cz/muni/fi/webmias/indexes.properties << EOF\n",
    "INDEX_NAMES=arqmath-clef2020\n",
    "PATHS=$OLDPWD/MIaS/target/index\n",
    "STORAGES=$OLDPWD/ARQMath_CLEF2020-output\n",
    "MAXRESULTS=1000\n",
    "EOF\n",
    "mvn clean install\n",
    "popd\n",
    "\n",
    "curl --location downloads.apache.org/tomcat/tomcat-8/v8.5.56/bin/apache-tomcat-8.5.56.tar.gz | tar xz\n",
    "pushd apache-tomcat-8.5.56\n",
    "cp \"$OLDPWD\"/WebMIaS/target/WebMIaS-1.6.6-4.10.4-SNAPSHOT.war webapps/WebMIaS.war\n",
    "bin/startup.sh\n",
    "popd"
   ]
  },
  {
   "cell_type": "markdown",
   "metadata": {},
   "source": [
    "Produce the task 1 results."
   ]
  },
  {
   "cell_type": "code",
   "execution_count": 1,
   "metadata": {},
   "outputs": [
    {
     "name": "stderr",
     "output_type": "stream",
     "text": [
      "reading queries: 100%|██████████| 98/98 [05:14<00:00,  3.21s/it]\n"
     ]
    }
   ],
   "source": [
    "from collections import deque\n",
    "import csv\n",
    "import ctypes\n",
    "from gensim.utils import simple_preprocess as gensim_simple_preprocess\n",
    "from itertools import chain, cycle\n",
    "from lxml import etree\n",
    "import re\n",
    "import requests\n",
    "from tqdm import tqdm\n",
    "\n",
    "csv_parameters = {'delimiter': '\\t', 'quotechar': '\"', 'quoting': csv.QUOTE_MINIMAL}\n",
    "csv.field_size_limit(int(ctypes.c_ulong(-1).value // 2))\n",
    "html_parser = etree.HTMLParser(huge_tree=True)\n",
    "xml_parser = etree.XMLParser(huge_tree=True)\n",
    "tostring_parameters = {'xml_declaration': True, 'encoding': 'UTF-8', 'pretty_print': True}\n",
    "webmias_url = 'http://localhost:8080/WebMIaS/ws/search'\n",
    "num_results = 1000\n",
    "webmias_parameters = {'limit': num_results, 'index': 0}\n",
    "score_regex = r'\\s*score\\s*=\\s*(?P<score>[-0-9.]*)'\n",
    "\n",
    "formulae = dict()\n",
    "with open('ARQMath_CLEF2020/Task1/Topics/Formula_topics_opt_V2.0.tsv', 'rt') as f:\n",
    "    formula_rows = csv.reader(f, **csv_parameters)\n",
    "    next(formula_rows)\n",
    "    for formula_row in formula_rows:\n",
    "        formula_id = formula_row[0]\n",
    "        formula = formula_row[-1]\n",
    "        formulae[formula_id] = formula\n",
    "\n",
    "def simple_preprocess(text):\n",
    "    return gensim_simple_preprocess(text, max_len=float('inf'))\n",
    "\n",
    "def parse_topic_element(topic_id, topic_element):\n",
    "    text_keywords, formula_keywords = [], []\n",
    "    title_element, question_element, tags_element = topic_element\n",
    "    title_document = etree.XML(title_element.text, html_parser)\n",
    "    for topic_subdocument in (title_document, title_document):\n",
    "        for span in topic_subdocument.xpath('//span[@class=\"math-container\"]'):\n",
    "            if 'id' in span.attrib:\n",
    "                formula_id = span.attrib['id']\n",
    "                if formula_id in formulae:\n",
    "                    formula_keywords.append(formulae[formula_id])\n",
    "                else:\n",
    "                    print('Undefined formula {} in topic {}'.format(formula_id, topic_id))\n",
    "            replacement = etree.Element(\"span\")\n",
    "            replacement.text = span.tail\n",
    "            span.getparent().replace(span, replacement)\n",
    "        text_keywords.extend(simple_preprocess(' '.join(topic_subdocument.itertext())))\n",
    "    text_keywords.extend(simple_preprocess(tags_element.text))\n",
    "    return (text_keywords, formula_keywords)\n",
    "\n",
    "def leave_rightmost_out(text_keywords, formula_keywords):\n",
    "    num_queries = len(text_keywords) + len(formula_keywords) + 1\n",
    "    stripe_width = num_queries\n",
    "    for first_text_keyword in range(len(text_keywords) + 1):\n",
    "        yield (text_keywords[first_text_keyword:], formula_keywords, stripe_width)\n",
    "        stripe_width -= 1\n",
    "    for last_formula_keyword in range(len(formula_keywords) - 1, -1, -1):\n",
    "        yield (text_keywords, formula_keywords[0:last_formula_keyword], stripe_width)\n",
    "        stripe_width -= 1\n",
    "\n",
    "def merge_result_lists(result_lists):\n",
    "    stripe_widths, result_deques = zip(*[\n",
    "        (stripe_width, deque(results))\n",
    "        for stripe_width, results\n",
    "        in result_lists\n",
    "    ])\n",
    "    maximum_score = float('-inf')\n",
    "    for result_deque in result_deques:\n",
    "        try:\n",
    "            maximum_score = max(maximum_score, result_deque[0][1])\n",
    "        except IndexError:\n",
    "            pass\n",
    "    assert maximum_score > float('-inf')\n",
    "    seen_answer_ids = set()\n",
    "    results = []\n",
    "    for stripe_width, result_deque in cycle(zip(stripe_widths, result_deques)):\n",
    "        if not sum(len(result_deque) for result_deque in result_deques):\n",
    "            break  # all deques are empty\n",
    "        if len(results) == num_results:\n",
    "            break  # result list is full\n",
    "        if not result_deque:\n",
    "            continue  # current deque is empty\n",
    "        try:\n",
    "            for _ in range(stripe_width):\n",
    "                answer_id, result_score = result_deque.popleft()\n",
    "                while answer_id in seen_answer_ids:\n",
    "                    answer_id, result_score = result_deque.popleft()\n",
    "                merged_score = maximum_score * (num_results - len(results)) + result_score\n",
    "                merged_score /= maximum_score * (num_results + 1)\n",
    "                results.append((answer_id, merged_score))\n",
    "                seen_answer_ids.add(answer_id)\n",
    "                if len(results) == num_results:\n",
    "                    break\n",
    "        except IndexError:\n",
    "                continue\n",
    "    assert len(results) == num_results\n",
    "    return results\n",
    "\n",
    "with open('MIRMU-task1-MIaS-auto-both-P.tsv', 'wt') as results_f:\n",
    "    results_csv_writer = csv.writer(results_f, **csv_parameters)\n",
    "    with open('ARQMath_CLEF2020/Task1/Topics/Topics_V2.0.xml', 'rt') as topics_f:\n",
    "        topics_document = etree.parse(topics_f, xml_parser)\n",
    "        topic_elements = tqdm(topics_document.xpath('/Topics/Topic'), desc='reading queries')\n",
    "        durations = dict()\n",
    "        for topic_element in topic_elements:\n",
    "            topic_id = topic_element.attrib['number']\n",
    "            text_keywords, formula_keywords = parse_topic_element(topic_id, topic_element)\n",
    "            subqueries = list(leave_rightmost_out(text_keywords, formula_keywords))\n",
    "            subquery_result_lists = []\n",
    "            for text_keywords, formula_keywords, stripe_width in subqueries:\n",
    "                subquery_payload = ' '.join(chain(text_keywords, formula_keywords)).encode('UTF-8')\n",
    "                subquery_data = {'query': subquery_payload, **webmias_parameters}\n",
    "                subquery_response = requests.post(webmias_url, data=subquery_data)\n",
    "                subquery_response_document = etree.XML(subquery_response.content, xml_parser)\n",
    "                subquery_results = []\n",
    "                for subquery_result_element in subquery_response_document.xpath('//result'):\n",
    "                    id_element, info_element, *_ = subquery_result_element\n",
    "                    answer_id = re.sub('\\.html$', '', id_element.text)\n",
    "                    score = float(re.match(score_regex, info_element.text).group('score'))\n",
    "                    subquery_results.append((answer_id, score))\n",
    "                subquery_results.sort(key=lambda x: (x[1], x[0]), reverse=True)\n",
    "                subquery_result_lists.append((stripe_width, subquery_results))\n",
    "            query_results = merge_result_lists(subquery_result_lists)\n",
    "            for rank, (answer_id, score) in enumerate(query_results):\n",
    "                row = (topic_id, answer_id, rank + 1, score, 'Run_MIaS_0')\n",
    "                results_csv_writer.writerow(row)"
   ]
  },
  {
   "cell_type": "markdown",
   "metadata": {},
   "source": [
    "Evaluate the task 1 results."
   ]
  },
  {
   "cell_type": "code",
   "execution_count": 2,
   "metadata": {},
   "outputs": [
    {
     "name": "stdout",
     "output_type": "stream",
     "text": [
      "0.155, 95% CI: [0.121; 0.192]\n"
     ]
    }
   ],
   "source": [
    "! python -m arqmath_eval.evaluate MIRMU-task1-MIaS-auto-both-P.tsv"
   ]
  }
 ],
 "metadata": {
  "kernelspec": {
   "display_name": "Python 3",
   "language": "python",
   "name": "python3"
  },
  "language_info": {
   "codemirror_mode": {
    "name": "ipython",
    "version": 3
   },
   "file_extension": ".py",
   "mimetype": "text/x-python",
   "name": "python",
   "nbconvert_exporter": "python",
   "pygments_lexer": "ipython3",
   "version": "3.7.7"
  }
 },
 "nbformat": 4,
 "nbformat_minor": 4
}
